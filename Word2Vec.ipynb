{
 "cells": [
  {
   "cell_type": "markdown",
   "id": "0da59340",
   "metadata": {},
   "source": [
    "Импортируем все необходимые библиотеки"
   ]
  },
  {
   "cell_type": "code",
   "execution_count": 1,
   "id": "4558214d",
   "metadata": {
    "ExecuteTime": {
     "end_time": "2024-03-23T12:48:34.605231Z",
     "start_time": "2024-03-23T12:48:29.617543Z"
    }
   },
   "outputs": [],
   "source": [
    "%%capture\n",
    "\n",
    "import re\n",
    "import pandas as pd\n",
    "import torch\n",
    "import matplotlib.pyplot as plt\n",
    "import numpy as np\n",
    "import random\n",
    "import torch.optim as optim\n",
    "import seaborn as sns\n",
    "\n",
    "from collections import Counter\n",
    "from torch.utils.data import Dataset, DataLoader\n",
    "from torch import nn\n",
    "from tqdm.notebook import tqdm\n",
    "import matplotlib.pyplot as plt\n",
    "from scipy.spatial import distance\n",
    "from sklearn.decomposition import PCA\n",
    "\n",
    "device = torch.device('cuda') if torch.cuda.is_available() else torch.device('cpu')\n",
    "sns.set_theme(style='whitegrid')"
   ]
  },
  {
   "cell_type": "markdown",
   "id": "a0868011",
   "metadata": {},
   "source": [
    "Загрузим предобработанные предложения и словарь"
   ]
  },
  {
   "cell_type": "code",
   "execution_count": 2,
   "id": "5e68dccd",
   "metadata": {
    "ExecuteTime": {
     "end_time": "2024-03-23T12:48:34.650149Z",
     "start_time": "2024-03-23T12:48:34.605231Z"
    }
   },
   "outputs": [],
   "source": [
    "with open('textdata/words.txt', 'r', encoding='utf-8') as words_file:\n",
    "    words = words_file.read()\n",
    "words = words.split()"
   ]
  },
  {
   "cell_type": "markdown",
   "id": "9566f951",
   "metadata": {},
   "source": [
    "Создадим словарь, а так же двусторонний словарь между словом `token` и его `id` в словаре"
   ]
  },
  {
   "cell_type": "code",
   "execution_count": 3,
   "id": "86c084a2",
   "metadata": {
    "ExecuteTime": {
     "end_time": "2024-03-23T12:48:34.657164Z",
     "start_time": "2024-03-23T12:48:34.651171Z"
    }
   },
   "outputs": [],
   "source": [
    "def create_dicts(words):\n",
    "    word_counts = Counter(words)\n",
    "    sorted_vocab = sorted(word_counts, key=word_counts.get, reverse=True)\n",
    "    id2tok = {ii: word for ii, word in enumerate(sorted_vocab)}\n",
    "    tok2id = {word: ii for ii, word in id2tok.items()}\n",
    "\n",
    "    return tok2id, id2tok, len(sorted_vocab)"
   ]
  },
  {
   "cell_type": "code",
   "execution_count": 4,
   "id": "18575c97",
   "metadata": {
    "ExecuteTime": {
     "end_time": "2024-03-23T12:48:34.734634Z",
     "start_time": "2024-03-23T12:48:34.659203Z"
    }
   },
   "outputs": [],
   "source": [
    "tok2id, id2tok, vsize = create_dicts(words)\n",
    "id_words = [tok2id[word] for word in words]\n",
    "vocab = list(set(words))\n",
    "word_counts = Counter(words)"
   ]
  },
  {
   "cell_type": "markdown",
   "id": "ef9b09c6",
   "metadata": {},
   "source": [
    "Создадим таблицу со словами из словаря и их количеством в тексте"
   ]
  },
  {
   "cell_type": "code",
   "execution_count": 5,
   "id": "a63c1246",
   "metadata": {
    "ExecuteTime": {
     "end_time": "2024-03-23T12:48:34.772841Z",
     "start_time": "2024-03-23T12:48:34.735632Z"
    }
   },
   "outputs": [],
   "source": [
    "vocab_df = pd.DataFrame({'word': vocab})\n",
    "vocab_df['id'] = [tok2id[word] for word in vocab]\n",
    "vocab_df['count'] = [word_counts[word] for word in vocab]\n",
    "vocab_df.sort_values(by='count', ascending=False, inplace=True)"
   ]
  },
  {
   "cell_type": "markdown",
   "id": "82133f03",
   "metadata": {},
   "source": [
    "Итоговое количество слов и размер словаря:"
   ]
  },
  {
   "cell_type": "code",
   "execution_count": 6,
   "id": "047dd279",
   "metadata": {
    "ExecuteTime": {
     "end_time": "2024-03-23T12:48:34.798492Z",
     "start_time": "2024-03-23T12:48:34.774540Z"
    }
   },
   "outputs": [
    {
     "name": "stdout",
     "output_type": "stream",
     "text": [
      "Total # of words: 270168\n",
      "# of unique words: 5185\n"
     ]
    }
   ],
   "source": [
    "print(\"Total # of words: {}\".format(len(words)))\n",
    "print(\"# of unique words: {}\".format(len(set(words)))) "
   ]
  },
  {
   "cell_type": "markdown",
   "id": "1029cd89",
   "metadata": {},
   "source": [
    "Зададим функцию сколзящего окна"
   ]
  },
  {
   "cell_type": "code",
   "execution_count": 7,
   "id": "4af1b7db",
   "metadata": {
    "ExecuteTime": {
     "end_time": "2024-03-23T12:48:34.815956Z",
     "start_time": "2024-03-23T12:48:34.801622Z"
    }
   },
   "outputs": [],
   "source": [
    "def sliding_window(words, wsize=3):\n",
    "    pairs = []\n",
    "    \n",
    "    for i, target in enumerate(words):\n",
    "        tid = tok2id[target]\n",
    "            \n",
    "        start = max(0, i - wsize)\n",
    "        end = min(len(words), i + wsize + 1)\n",
    "        for j in range(start, end):\n",
    "            if (i != j) and (words[j] in vocab):\n",
    "                cid = tok2id[words[j]]\n",
    "                pairs.append((tid, cid))\n",
    "    return pairs"
   ]
  },
  {
   "cell_type": "markdown",
   "id": "9423fd9c",
   "metadata": {},
   "source": [
    "Получим данные для обучения - пары слов (целевое слово, контекстовое слово)"
   ]
  },
  {
   "cell_type": "code",
   "execution_count": 8,
   "id": "8fa5c721",
   "metadata": {
    "ExecuteTime": {
     "end_time": "2024-03-23T12:49:25.945049Z",
     "start_time": "2024-03-23T12:48:36.355768Z"
    }
   },
   "outputs": [],
   "source": [
    "train = sliding_window(words)\n",
    "        \n",
    "with open('textdata/train.txt', 'w', encoding='utf-8') as train_file:\n",
    "        for elem in train:\n",
    "            line = f\"({elem[0]}, {elem[1]})\\n\"\n",
    "            train_file.write(line)"
   ]
  },
  {
   "cell_type": "markdown",
   "id": "c79afc59",
   "metadata": {},
   "source": [
    "Определим свой класс Dataset:"
   ]
  },
  {
   "cell_type": "code",
   "execution_count": 9,
   "id": "51ea3934",
   "metadata": {
    "ExecuteTime": {
     "end_time": "2024-03-23T12:49:25.960194Z",
     "start_time": "2024-03-23T12:49:25.947048Z"
    }
   },
   "outputs": [],
   "source": [
    "class Word2VecDataset(Dataset):\n",
    "    def __init__(self, pairs, vsize, wsize=3):\n",
    "        self.data = pairs\n",
    "        self.vsize = vsize\n",
    "        self.wsize = wsize\n",
    "\n",
    "    def __getitem__(self, index):\n",
    "        return self.data[index]\n",
    "\n",
    "    def __len__(self):\n",
    "        return len(self.data)\n",
    "    \n",
    "word2vec_dataset = Word2VecDataset(train, vsize=vsize)"
   ]
  },
  {
   "cell_type": "markdown",
   "id": "1436bc68",
   "metadata": {},
   "source": [
    "Напишем свой Dataloader для данных:"
   ]
  },
  {
   "cell_type": "code",
   "execution_count": 10,
   "id": "eb4dde87",
   "metadata": {
    "ExecuteTime": {
     "end_time": "2024-03-23T12:49:25.975350Z",
     "start_time": "2024-03-23T12:49:25.961195Z"
    }
   },
   "outputs": [
    {
     "name": "stdout",
     "output_type": "stream",
     "text": [
      "Number of batches: 396\n"
     ]
    }
   ],
   "source": [
    "BATCH_SIZE = 2**12\n",
    "\n",
    "dataloader = DataLoader(word2vec_dataset,\n",
    "                        batch_size=BATCH_SIZE,\n",
    "                        shuffle=False)\n",
    "\n",
    "print(f\"Number of batches: {len(dataloader)}\")"
   ]
  },
  {
   "cell_type": "markdown",
   "id": "dc89644a",
   "metadata": {},
   "source": [
    "Определим класс модели Word2Vec:"
   ]
  },
  {
   "cell_type": "code",
   "execution_count": 11,
   "id": "abb62a41",
   "metadata": {
    "ExecuteTime": {
     "end_time": "2024-03-23T12:49:25.991144Z",
     "start_time": "2024-03-23T12:49:25.977409Z"
    }
   },
   "outputs": [],
   "source": [
    "class Word2Vec(nn.Module):\n",
    "    def __init__(self, vsize, esize, noise_dist=None):\n",
    "        super().__init__()\n",
    "        \n",
    "        self.vsize = vsize\n",
    "        self.esize = esize\n",
    "        self.noise_dist = noise_dist\n",
    "\n",
    "        self.in_embed = nn.Embedding(vsize, esize)\n",
    "        self.out_embed = nn.Embedding(vsize, esize)\n",
    "        \n",
    "        self.in_embed.weight.data.uniform_(-1, 1)\n",
    "        self.out_embed.weight.data.uniform_(-1, 1)\n",
    "        \n",
    "    def forward(self, input):\n",
    "        embed = self.in_embed(input)\n",
    "        return embed\n",
    "\n",
    "    def forward_input(self, input_vectors):\n",
    "        input_embeddings = self.in_embed(input_vectors)\n",
    "        return input_embeddings\n",
    "\n",
    "    def forward_target(self, output_vectors):\n",
    "        output_embeddings = self.out_embed(output_vectors)\n",
    "        return output_embeddings\n",
    "\n",
    "    def forward_noise(self, batch_size, n_samples=5):\n",
    "        '''Генерация шумовых векторов для negative sampling из шумового распределения'''\n",
    "        if self.noise_dist is None:\n",
    "            noise_dist = torch.ones(self.vsize)\n",
    "        else:\n",
    "            noise_dist = self.noise_dist\n",
    "\n",
    "        noise_words = torch.multinomial(input=noise_dist,\n",
    "                                        num_samples=batch_size*n_samples, replacement=True)\n",
    "        noise_words = noise_words.to(device)\n",
    "\n",
    "        noise_vectors = self.out_embed(noise_words).view(\n",
    "            batch_size, n_samples, self.esize)\n",
    "\n",
    "        return noise_vectors"
   ]
  },
  {
   "cell_type": "markdown",
   "id": "c328f3fe",
   "metadata": {},
   "source": [
    "Определим Loss-функцию с поддержкой негативных сэмплов:"
   ]
  },
  {
   "cell_type": "code",
   "execution_count": 12,
   "id": "5f1754c0",
   "metadata": {
    "ExecuteTime": {
     "end_time": "2024-03-23T12:49:26.000999Z",
     "start_time": "2024-03-23T12:49:25.992143Z"
    }
   },
   "outputs": [],
   "source": [
    "class NegativeSamplingLoss(nn.Module):\n",
    "    def __init__(self):\n",
    "        super().__init__()\n",
    "\n",
    "    def forward(self, input_vectors, output_vectors, noise_vectors):\n",
    "      \n",
    "        batch_size, embed_size = input_vectors.shape\n",
    "    \n",
    "        input_vectors = input_vectors.view(batch_size, embed_size, 1)\n",
    "        output_vectors = output_vectors.view(batch_size, 1, embed_size)\n",
    "    \n",
    "        out_loss = torch.bmm(output_vectors, input_vectors).sigmoid().log().squeeze()\n",
    "    \n",
    "        noise_loss = torch.bmm(noise_vectors.neg(), input_vectors).sigmoid().log()\n",
    "        noise_loss = noise_loss.squeeze().sum(1)\n",
    "\n",
    "        return -(out_loss + noise_loss).mean()"
   ]
  },
  {
   "cell_type": "markdown",
   "id": "adf4f674",
   "metadata": {},
   "source": [
    "Определим распределение шума по формуле:\n",
    "$$\n",
    "P_{n}(w) = \\frac{U(w)^{\\frac{3}{4}}}{Z}\n",
    "$$"
   ]
  },
  {
   "cell_type": "code",
   "execution_count": 13,
   "id": "a4160222",
   "metadata": {
    "ExecuteTime": {
     "end_time": "2024-03-23T12:49:26.017346Z",
     "start_time": "2024-03-23T12:49:26.002649Z"
    }
   },
   "outputs": [],
   "source": [
    "freq = Counter(id_words)\n",
    "freq_ratio = {word:cnt/len(tok2id) for word, cnt in freq.items()}        \n",
    "freq_ratio = np.array(sorted(freq_ratio.values(), reverse=True))\n",
    "unigram_dist = freq_ratio / freq_ratio.sum() \n",
    "noise_dist = torch.from_numpy(unigram_dist**0.75 / np.sum(unigram_dist**0.75))"
   ]
  },
  {
   "cell_type": "markdown",
   "id": "b30eec1b",
   "metadata": {},
   "source": [
    "Создадим модель"
   ]
  },
  {
   "cell_type": "code",
   "execution_count": 21,
   "id": "86bd37b0",
   "metadata": {
    "ExecuteTime": {
     "end_time": "2024-03-20T12:42:03.976781Z",
     "start_time": "2024-03-20T12:42:00.904654Z"
    }
   },
   "outputs": [
    {
     "name": "stdout",
     "output_type": "stream",
     "text": [
      "Word2Vec(\n",
      "  (in_embed): Embedding(5185, 128)\n",
      "  (out_embed): Embedding(5185, 128)\n",
      ")\n",
      "Running on: cuda\n"
     ]
    }
   ],
   "source": [
    "EMBED_SIZE = 128\n",
    "LR = 1e-3\n",
    "NEG_SAMPLES = 10\n",
    "\n",
    "model = Word2Vec(vsize, EMBED_SIZE, noise_dist).to(device)\n",
    "criterion = NegativeSamplingLoss()\n",
    "optimizer = optim.Adam(model.parameters(), lr = LR)\n",
    "print(model, f\"Running on: {device}\", sep='\\n')"
   ]
  },
  {
   "cell_type": "markdown",
   "id": "67b716ce",
   "metadata": {},
   "source": [
    "Обучим модель"
   ]
  },
  {
   "cell_type": "code",
   "execution_count": 22,
   "id": "5dcf2f15",
   "metadata": {
    "ExecuteTime": {
     "end_time": "2024-03-20T12:43:06.950399Z",
     "start_time": "2024-03-20T12:43:06.942363Z"
    }
   },
   "outputs": [],
   "source": [
    "total_epochs = 0\n",
    "running_loss = []"
   ]
  },
  {
   "cell_type": "code",
   "execution_count": 23,
   "id": "f0e30cd1",
   "metadata": {
    "ExecuteTime": {
     "end_time": "2024-03-20T12:54:22.407145Z",
     "start_time": "2024-03-20T12:43:10.552577Z"
    },
    "code_folding": []
   },
   "outputs": [
    {
     "data": {
      "application/vnd.jupyter.widget-view+json": {
       "model_id": "881ebbe59eaf409f89756e1157906a07",
       "version_major": 2,
       "version_minor": 0
      },
      "text/plain": [
       "  0%|          | 0/39600 [00:00<?, ?it/s]"
      ]
     },
     "metadata": {},
     "output_type": "display_data"
    },
    {
     "name": "stdout",
     "output_type": "stream",
     "text": [
      "Current model epoch: 100\n"
     ]
    },
    {
     "data": {
      "image/png": "[encoded data removed]",
      "text/plain": [
       "<Figure size 600x600 with 1 Axes>"
      ]
     },
     "metadata": {},
     "output_type": "display_data"
    }
   ],
   "source": [
    "EPOCHS = 100\n",
    "total_epochs += EPOCHS\n",
    "progress_bar = tqdm(range(EPOCHS * len(dataloader)))\n",
    "\n",
    "for epoch in range(EPOCHS):\n",
    "    epoch_loss = 0\n",
    "    \n",
    "    for tw, cw in dataloader:\n",
    "        tw, cw = tw.to(device), cw.to(device)\n",
    "        \n",
    "        in_embed = model.forward_input(tw)\n",
    "        out_embed = model.forward_target(cw)\n",
    "        noise = model.forward_noise(batch_size=tw.shape[0], \n",
    "                                                  n_samples=NEG_SAMPLES)\n",
    "\n",
    "        loss = criterion(in_embed, out_embed, noise)\n",
    "        epoch_loss += loss.detach().cpu()\n",
    "        \n",
    "        optimizer.zero_grad()\n",
    "        loss.backward()\n",
    "        optimizer.step()\n",
    "        \n",
    "        progress_bar.update(1)\n",
    "        \n",
    "    epoch_loss /= len(dataloader)\n",
    "    running_loss.append(epoch_loss)\n",
    "    \n",
    "print(f\"Current model epoch: {total_epochs}\")\n",
    "\n",
    "plt.figure(figsize = (6, 6))\n",
    "plt.plot(running_loss)\n",
    "if (total_epochs > EPOCHS):\n",
    "    plt.axvline(x = (total_epochs - EPOCHS), color='g', label='previous loss')\n",
    "plt.show()"
   ]
  },
  {
   "cell_type": "markdown",
   "id": "edbb55a3",
   "metadata": {},
   "source": [
    "Сохранение модели"
   ]
  },
  {
   "cell_type": "code",
   "execution_count": 24,
   "id": "00325f0b",
   "metadata": {
    "ExecuteTime": {
     "end_time": "2024-03-20T12:54:28.875600Z",
     "start_time": "2024-03-20T12:54:28.826848Z"
    }
   },
   "outputs": [],
   "source": [
    "PATH = f\"model/word2vec-ViM-vsize{vsize}-ep{total_epochs}-emb{EMBED_SIZE}-neg{NEG_SAMPLES}.checkpoint\"\n",
    "\n",
    "torch.save({\n",
    "            'epoch': total_epochs,\n",
    "            'model_state_dict': model.state_dict(),\n",
    "            'optimizer_state_dict': optimizer.state_dict(),\n",
    "            }, PATH)"
   ]
  },
  {
   "cell_type": "markdown",
   "id": "f43c7d6d",
   "metadata": {},
   "source": [
    "Загрузка модели"
   ]
  },
  {
   "cell_type": "code",
   "execution_count": 12,
   "id": "f18a477f",
   "metadata": {
    "ExecuteTime": {
     "end_time": "2024-03-19T19:33:07.503348Z",
     "start_time": "2024-03-19T19:33:07.480591Z"
    }
   },
   "outputs": [
    {
     "data": {
      "text/plain": [
       "<All keys matched successfully>"
      ]
     },
     "execution_count": 12,
     "metadata": {},
     "output_type": "execute_result"
    }
   ],
   "source": [
    "#model = Word2Vec(vsize, EMBED_SIZE).to(device)\n",
    "#checkpoint = torch.load('model/word2vec-ViM-vsize5875-ep1500-emb128.checkpoint')\n",
    "#model.load_state_dict(checkpoint['model_state_dict'])"
   ]
  },
  {
   "cell_type": "markdown",
   "id": "05c15ab2",
   "metadata": {
    "ExecuteTime": {
     "end_time": "2024-03-14T08:17:55.314652Z",
     "start_time": "2024-03-14T08:17:55.301259Z"
    }
   },
   "source": [
    "Выгрузим вектроные репрезентации слов"
   ]
  },
  {
   "cell_type": "code",
   "execution_count": 25,
   "id": "851be934",
   "metadata": {
    "ExecuteTime": {
     "end_time": "2024-03-20T12:54:31.745590Z",
     "start_time": "2024-03-20T12:54:31.732815Z"
    }
   },
   "outputs": [],
   "source": [
    "wordvecs = model.in_embed.weight.cpu().detach().numpy()"
   ]
  },
  {
   "cell_type": "markdown",
   "id": "a6aa84ad",
   "metadata": {},
   "source": [
    "Зададим матрицу расстояний с косинусной метрикой и определим функцию ближайших слов для одного и для алгебраической суммы слов"
   ]
  },
  {
   "cell_type": "code",
   "execution_count": 272,
   "id": "ea7e6d56",
   "metadata": {
    "ExecuteTime": {
     "end_time": "2024-03-20T13:49:54.467417Z",
     "start_time": "2024-03-20T13:49:52.515244Z"
    },
    "code_folding": [
     3,
     7
    ]
   },
   "outputs": [],
   "source": [
    "def get_embed(wordvecs, word):\n",
    "    return wordvecs[tok2id[word]]\n",
    "\n",
    "def get_distance_matrix(wordvecs, metric):\n",
    "    dist_matrix = distance.squareform(distance.pdist(wordvecs, metric))\n",
    "    return dist_matrix\n",
    "\n",
    "def get_k_similar_words(word, dist_matrix, k=7):\n",
    "    dists = dist_matrix[tok2id[word]]\n",
    "    ind = np.argpartition(dists, k)[:k+1]\n",
    "    ind = ind[np.argsort(dists[ind])][1:]\n",
    "    out = [(i, id2tok[i], dists[i]) for i in ind]\n",
    "    return out\n",
    "\n",
    "def get_k_similar_words_for_sum(pos=[], neg=[], k=7):\n",
    "    mean = np.zeros((EMBED_SIZE,), dtype=float)\n",
    "    for word in pos:\n",
    "        mean += wordvecs[tok2id[word]]\n",
    "    for word in neg:\n",
    "        mean -= wordvecs[tok2id[word]]\n",
    "    mean /= (len(pos) + len(neg))\n",
    "    \n",
    "    dists = np.zeros((vsize,), dtype=float)\n",
    "    for i, vec in enumerate(wordvecs):\n",
    "        dists[i] = distance.cosine(mean, vec)\n",
    "\n",
    "    ind = np.argpartition(dists, k)[:(k+len(pos))]\n",
    "    ind = ind[np.argsort(dists[ind])][len(pos):]\n",
    "    out = [(i, id2tok[i], dists[i]) for i in ind]\n",
    "    return out   \n",
    "\n",
    "dmat = get_distance_matrix(wordvecs, 'cosine')"
   ]
  },
  {
   "cell_type": "markdown",
   "id": "79c6eecc",
   "metadata": {},
   "source": [
    "Понижение размерности для векторов"
   ]
  },
  {
   "cell_type": "code",
   "execution_count": 27,
   "id": "5d64e3ee",
   "metadata": {
    "ExecuteTime": {
     "end_time": "2024-03-20T12:54:37.106801Z",
     "start_time": "2024-03-20T12:54:37.088133Z"
    }
   },
   "outputs": [],
   "source": [
    "pca = PCA(n_components=2)"
   ]
  },
  {
   "cell_type": "markdown",
   "id": "1fbcee57",
   "metadata": {},
   "source": [
    "Визуализация стран и городов (зачастую, столиц этих стран)"
   ]
  },
  {
   "cell_type": "code",
   "execution_count": 29,
   "id": "61549df0",
   "metadata": {
    "ExecuteTime": {
     "end_time": "2024-03-20T12:54:56.167792Z",
     "start_time": "2024-03-20T12:54:55.053964Z"
    }
   },
   "outputs": [
    {
     "data": {
      "image/png": "[encoded data removed]",
      "text/plain": [
       "<Figure size 600x400 with 1 Axes>"
      ]
     },
     "metadata": {},
     "output_type": "display_data"
    }
   ],
   "source": [
    "geo = ['австрия', 'россия', 'англия',\n",
    "       'пруссия', 'франция','вена', 'петербург',\n",
    "      'москва', 'париж', 'смоленск']\n",
    "geo_vecs = torch.stack([model(torch.tensor(tok2id[word]).to(device)).cpu().detach() for word in geo]).numpy()\n",
    "geo_vecs_2d = pca.fit_transform(geo_vecs)\n",
    "\n",
    "plt.figure(figsize=(6, 4))\n",
    "for i, word in enumerate(geo):\n",
    "    plt.scatter(geo_vecs_2d[i, 0], geo_vecs_2d[i, 1])\n",
    "    plt.text(geo_vecs_2d[i, 0]+0.05, geo_vecs_2d[i, 1]+0.05, word, fontsize=12)\n",
    "plt.title('Страны и города')\n",
    "plt.grid(True)\n",
    "plt.show()"
   ]
  },
  {
   "cell_type": "markdown",
   "id": "8c88defa",
   "metadata": {},
   "source": [
    "Визуализация имен и фамилий основных персонажей"
   ]
  },
  {
   "cell_type": "code",
   "execution_count": 142,
   "id": "65ce06cb",
   "metadata": {
    "ExecuteTime": {
     "end_time": "2024-03-20T13:28:36.528454Z",
     "start_time": "2024-03-20T13:28:35.721046Z"
    }
   },
   "outputs": [
    {
     "data": {
      "image/png": "[encoded data removed]",
      "text/plain": [
       "<Figure size 600x400 with 1 Axes>"
      ]
     },
     "metadata": {},
     "output_type": "display_data"
    }
   ],
   "source": [
    "adjs = ['молодой', 'старый', 'хороший', 'милый', 'страшный',\n",
    "        'счастливый', 'красивый', 'приятный', 'прекрасный']\n",
    "char_adjs = adjs + names\n",
    "adj_vecs = torch.stack([model(torch.tensor(tok2id[word]).to(device)).cpu().detach() for word in char_adjs]).numpy()\n",
    "adj_vecs_2d = pca.fit_transform(adj_vecs)\n",
    "\n",
    "plt.figure(figsize=(6, 4))\n",
    "for i, word in enumerate(char_adjs):\n",
    "    plt.scatter(adj_vecs_2d[i, 0], adj_vecs_2d[i, 1])\n",
    "    plt.text(adj_vecs_2d[i, 0]+0.05, adj_vecs_2d[i, 1]+0.05, word, fontsize=12)\n",
    "plt.title('Имена и фамилии основных персонажей')\n",
    "plt.grid(True)\n",
    "plt.show()"
   ]
  },
  {
   "cell_type": "code",
   "execution_count": 34,
   "id": "eedce050",
   "metadata": {
    "ExecuteTime": {
     "end_time": "2024-03-20T12:56:13.563353Z",
     "start_time": "2024-03-20T12:56:13.548782Z"
    },
    "code_folding": []
   },
   "outputs": [
    {
     "name": "stdout",
     "output_type": "stream",
     "text": [
      "Персонаж: пьер\n",
      "глаз 0.601\n",
      "прежде 0.602\n",
      "давно 0.609\n",
      "доктор 0.609\n",
      "убежище 0.614\n",
      "масонство 0.62\n",
      "масон 0.622\n"
     ]
    }
   ],
   "source": [
    "names = ['пьер', 'андрей', 'наташа', 'борис',\n",
    "        'василий', 'марья', 'анна::павловна']\n",
    "name_id = 0\n",
    "print('Персонаж:', names[name_id])\n",
    "for elem in get_k_similar_words(names[name_id], dmat, 7):\n",
    "    print(f\"{elem[1]} {round(elem[2], 3)}\")\n",
    "\n",
    "#for i, name in enumerate(names):\n",
    "    #print(names[i], [t[1] for t in get_k_similar_words([names[i]], [], dmat, 5)], \"\\n\")"
   ]
  },
  {
   "cell_type": "markdown",
   "id": "f71a163f",
   "metadata": {},
   "source": [
    "Визуализация имен и фамилий основных персонажей"
   ]
  },
  {
   "cell_type": "code",
   "execution_count": 121,
   "id": "1ece2c5c",
   "metadata": {
    "ExecuteTime": {
     "end_time": "2024-03-20T13:20:01.143847Z",
     "start_time": "2024-03-20T13:20:00.747827Z"
    }
   },
   "outputs": [
    {
     "data": {
      "image/png": "[encoded data removed]",
      "text/plain": [
       "<Figure size 600x400 with 1 Axes>"
      ]
     },
     "metadata": {},
     "output_type": "display_data"
    }
   ],
   "source": [
    "characters = ['пьер', 'безухов', 'андрей',\n",
    "    'болконский', 'наташа', 'ростов', 'анна::павловна',\n",
    "    'анатоль', 'курагин', 'ростова', 'марья',\n",
    "    'мари', 'княжна::марья']\n",
    "char_vecs = torch.stack([model(torch.tensor(tok2id[word]).to(device)).cpu().detach() for word in characters]).numpy()\n",
    "char_vecs_2d = pca.fit_transform(char_vecs)\n",
    "\n",
    "plt.figure(figsize=(6, 4))\n",
    "for i, word in enumerate(characters):\n",
    "    plt.scatter(char_vecs_2d[i, 0], char_vecs_2d[i, 1])\n",
    "    plt.text(char_vecs_2d[i, 0]+0.05, char_vecs_2d[i, 1]+0.05, word, fontsize=12)\n",
    "plt.title('Имена и фамилии основных персонажей')\n",
    "plt.grid(True)\n",
    "plt.show()"
   ]
  },
  {
   "cell_type": "markdown",
   "id": "e2f997ae",
   "metadata": {},
   "source": [
    "Характеристика некоторых основных персонажей прилагательными и глаголами"
   ]
  },
  {
   "cell_type": "code",
   "execution_count": 150,
   "id": "e4e0ad45",
   "metadata": {
    "ExecuteTime": {
     "end_time": "2024-03-20T13:29:59.932294Z",
     "start_time": "2024-03-20T13:29:59.916074Z"
    }
   },
   "outputs": [],
   "source": [
    "cnt = 0"
   ]
  },
  {
   "cell_type": "code",
   "execution_count": 248,
   "id": "98451b5e",
   "metadata": {
    "ExecuteTime": {
     "end_time": "2024-03-20T13:46:48.088105Z",
     "start_time": "2024-03-20T13:46:48.077877Z"
    }
   },
   "outputs": [
    {
     "name": "stdout",
     "output_type": "stream",
     "text": [
      "              word  count\n",
      "2396           кто    235\n",
      "4880          мать    232\n",
      "3795       василий    232\n",
      "518   оглядываться    232\n",
      "2519       женщина    231\n",
      "2118        нибудь    230\n",
      "3945          стол    230\n",
      "1044      получать    228\n",
      "1932       ребенок    228\n",
      "3732      подумать    227\n"
     ]
    }
   ],
   "source": [
    "print(vocab_df[['word', 'count']][cnt:cnt+10])\n",
    "cnt += 10"
   ]
  },
  {
   "cell_type": "code",
   "execution_count": 329,
   "id": "7f2633ab",
   "metadata": {
    "ExecuteTime": {
     "end_time": "2024-03-20T15:36:13.416283Z",
     "start_time": "2024-03-20T15:36:13.409094Z"
    }
   },
   "outputs": [],
   "source": [
    "test_sents = [\n",
    "\"славный хороший милый ужасный ничтожный спокойный веселый довольный недовольный\",\n",
    "\"хороший плохой милый ужасный\",\n",
    "\"русский французский россия франция\",\n",
    "\"нога голова глаз рука нос палец волос губа шея плечо колено локоть\",\n",
    "\"нога рука колено локоть\",\n",
    "\"улыбка улыбнуться смех смеяться\",\n",
    "\"быстрый быстро медленный медленно\",\n",
    "\"он она мужчина женщина\",\n",
    "\"мужчина женщина мать отец\"]"
   ]
  },
  {
   "cell_type": "code",
   "execution_count": 330,
   "id": "e5014741",
   "metadata": {
    "ExecuteTime": {
     "end_time": "2024-03-20T15:36:13.811833Z",
     "start_time": "2024-03-20T15:36:13.798336Z"
    }
   },
   "outputs": [],
   "source": [
    "test_index = 9\n",
    "\n",
    "test_words = test_sents[test_index].split()\n",
    "test_vecs = torch.stack([model(torch.tensor(tok2id[word]).to(device)).cpu().detach() for word in test_words]).numpy()\n",
    "test_vecs_2d = pca.fit_transform(test_vecs)"
   ]
  },
  {
   "cell_type": "code",
   "execution_count": 331,
   "id": "cbde4b15",
   "metadata": {
    "ExecuteTime": {
     "end_time": "2024-03-20T15:36:14.186550Z",
     "start_time": "2024-03-20T15:36:14.025029Z"
    }
   },
   "outputs": [
    {
     "data": {
      "image/png": "[encoded data removed]",
      "text/plain": [
       "<Figure size 600x400 with 1 Axes>"
      ]
     },
     "metadata": {},
     "output_type": "display_data"
    }
   ],
   "source": [
    "plt.figure(figsize=(6, 4))\n",
    "for i, word in enumerate(test_words):\n",
    "    plt.scatter(test_vecs_2d[i, 0], test_vecs_2d[i, 1])\n",
    "    plt.text(test_vecs_2d[i, 0]+0.05, test_vecs_2d[i, 1]+0.05, word, fontsize=12)\n",
    "plt.grid(True)\n",
    "plt.show()"
   ]
  },
  {
   "cell_type": "code",
   "execution_count": 295,
   "id": "8e0624cf",
   "metadata": {
    "ExecuteTime": {
     "end_time": "2024-03-20T14:58:25.895826Z",
     "start_time": "2024-03-20T14:58:25.762333Z"
    }
   },
   "outputs": [
    {
     "name": "stdout",
     "output_type": "stream",
     "text": [
      "Наиболее похожие слова на\n",
      "vec(смеяться) - vec(смех) + vec(улыбка):\n",
      "\n",
      "улыбаться:      0.5608\n",
      "утвердительно:  0.6047\n",
      "просиять:       0.6134\n",
      "имя:            0.6438\n",
      "насмешливый:    0.6541\n"
     ]
    }
   ],
   "source": [
    "print(\"Наиболее похожие слова на\", \"vec(смеяться) - vec(смех) + vec(улыбка):\\n\", sep='\\n')\n",
    "for word in get_k_similar_words_for_sum(['смеяться', 'улыбка'], ['смех'], 5):\n",
    "    print(word[1], ':', \" \"*(15-len(word[1])), round(word[2], 4), sep='')"
   ]
  },
  {
   "cell_type": "code",
   "execution_count": 275,
   "id": "a0a3cf59",
   "metadata": {
    "ExecuteTime": {
     "end_time": "2024-03-20T13:50:05.760948Z",
     "start_time": "2024-03-20T13:50:05.754430Z"
    }
   },
   "outputs": [
    {
     "name": "stdout",
     "output_type": "stream",
     "text": [
      "смех, хохот, шутить, улыбаться, наряд, неодобрительно, слеза \n",
      "\n"
     ]
    }
   ],
   "source": [
    "print(', '.join([t[1] for t in get_k_similar_words('смеяться', dmat, 7)]), \"\\n\")"
   ]
  },
  {
   "cell_type": "code",
   "execution_count": 296,
   "id": "1f7870ba",
   "metadata": {
    "ExecuteTime": {
     "end_time": "2024-03-20T15:13:59.871806Z",
     "start_time": "2024-03-20T15:13:59.732204Z"
    }
   },
   "outputs": [
    {
     "name": "stdout",
     "output_type": "stream",
     "text": [
      "Наиболее похожие слова на\n",
      "vec(отец) - vec(мужчина) + vec(женщина):\n",
      "\n",
      "мать:      0.5944\n",
      "написать:  0.6417\n",
      "сын:       0.6664\n",
      "дымок:     0.67\n",
      "дочь:      0.6806\n"
     ]
    }
   ],
   "source": [
    "print(f\"Наиболее похожие слова на\", \"vec(отец) - vec(мужчина) + vec(женщина):\\n\", sep='\\n')\n",
    "for word in get_k_similar_words_for_sum(['отец', 'женщина'], ['мужчина'], 5):\n",
    "    print(word[1], ':', \" \"*(10-len(word[1])), round(word[2], 4), sep='')"
   ]
  },
  {
   "cell_type": "code",
   "execution_count": 211,
   "id": "f8a61ce4",
   "metadata": {
    "ExecuteTime": {
     "end_time": "2024-03-20T13:41:08.050125Z",
     "start_time": "2024-03-20T13:41:08.042086Z"
    }
   },
   "outputs": [
    {
     "name": "stdout",
     "output_type": "stream",
     "text": [
      "Most similar words for  ->  vec(бог)\n",
      "\n",
      "ради, христос, помиловать, среда, жалованье, прощать, голубушка \n",
      "\n"
     ]
    }
   ],
   "source": [
    "word = 'бог'\n",
    "print(f\"Most similar words for  ->  vec({word})\\n\")\n",
    "print(', '.join([t[1] for t in get_k_similar_words(word, dmat, 7)]), '\\n')"
   ]
  },
  {
   "cell_type": "code",
   "execution_count": 135,
   "id": "7968d83a",
   "metadata": {
    "ExecuteTime": {
     "end_time": "2024-03-20T13:23:25.759192Z",
     "start_time": "2024-03-20T13:23:25.738094Z"
    }
   },
   "outputs": [
    {
     "name": "stdout",
     "output_type": "stream",
     "text": [
      "хвалить ['разговориться', 'дедушка', 'приезжать', 'трое', 'извиняться'] \n",
      "\n",
      "похождение ['преобразиться', 'искренний', 'живо', 'разумно', 'беспричинный'] \n",
      "\n",
      "знамя ['пушка', 'древко', 'трофей', 'бойко', 'мутный'] \n",
      "\n",
      "стыдно ['жать', 'сжимать', 'жалко', 'отчего', 'георгиевский'] \n",
      "\n",
      "отбить ['прятаться', 'бисквит', 'сабля', 'котелок', 'слушатель'] \n",
      "\n"
     ]
    }
   ],
   "source": [
    "rand_sample = np.random.choice(vocab, size=5, replace=False)\n",
    "\n",
    "for word in rand_sample:\n",
    "    print(word, [t[1] for t in get_k_similar_words(word, dmat, 5)], \"\\n\")"
   ]
  }
 ],
 "metadata": {
  "kernelspec": {
   "display_name": "ad",
   "language": "python",
   "name": "ad"
  },
  "language_info": {
   "codemirror_mode": {
    "name": "ipython",
    "version": 3
   },
   "file_extension": ".py",
   "mimetype": "text/x-python",
   "name": "python",
   "nbconvert_exporter": "python",
   "pygments_lexer": "ipython3",
   "version": "3.8.18"
  }
 },
 "nbformat": 4,
 "nbformat_minor": 5
}
